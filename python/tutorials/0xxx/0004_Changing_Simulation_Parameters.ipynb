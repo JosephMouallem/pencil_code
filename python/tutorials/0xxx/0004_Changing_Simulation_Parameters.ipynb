{
 "cells": [
  {
   "cell_type": "code",
   "execution_count": 1,
   "metadata": {
    "collapsed": false
   },
   "outputs": [
    {
     "name": "stdout",
     "output_type": "stream",
     "text": [
      "Warning: no vtk library found.\n"
     ]
    }
   ],
   "source": [
    "import pencilnew as pcn\n",
    "import os"
   ]
  },
  {
   "cell_type": "markdown",
   "metadata": {},
   "source": [
    "# Changing Simulation Parameters\n",
    "So far, we havnt implemented a way to modify simulation modules directly from python! But, you can modify 'src/cparam.local' and 'start.in' and 'run.in'. You see, ways to modify 'print.in', 'video.in', etc. are missing. Feel free to add them!\n",
    "\n",
    "The reason they are missing is, that valid input parameters depend on modules and its sometimes unclear where and how to add parameters correcly. But, changing them is rather easy and anyway what we do most of the time!\n",
    "\n",
    "So, for starting runs with modifyied parameters our workflow should be:\n",
    "1. Find a suiting master simulation or set up one on your own.\n",
    "2. From this master produce your simulation copies. \n",
    "3. Change parameters of the simulations. \n",
    "\n",
    "You already know how to do the first two things. Lets explore how we can do the last step from python."
   ]
  },
  {
   "cell_type": "markdown",
   "metadata": {},
   "source": [
    "## Start by doing a copy of a sample simulation"
   ]
  },
  {
   "cell_type": "code",
   "execution_count": 2,
   "metadata": {
    "collapsed": false
   },
   "outputs": [
    {
     "name": "stdout",
     "output_type": "stream",
     "text": [
      "? Warning: No name specified and simulation with that name already found! New simulation name now 2d_streaming_instability_copy2\n",
      "/home/user/pencil-code/python/tutorials/tmp/0004/2d_streaming_instability_copy2\n"
     ]
    }
   ],
   "source": [
    "SIM_MASTER = pcn.sim.simulation('../sample_simulations/2d_streaming_instability', quiet=True)\n",
    "SIM = SIM_MASTER.copy('../tmp/0004/')\n",
    "print(SIM.path)"
   ]
  },
  {
   "cell_type": "markdown",
   "metadata": {},
   "source": [
    "We do changes to cparam.local and in files, by specifing:\n",
    "- filename\n",
    "- quantity\n",
    "- newValue\n",
    "- and maybe filepath=False\n",
    "\n",
    "## a) Do changes in cparam.local"
   ]
  },
  {
   "cell_type": "code",
   "execution_count": 3,
   "metadata": {
    "collapsed": false
   },
   "outputs": [
    {
     "name": "stdout",
     "output_type": "stream",
     "text": [
      "/home/user/pencil-code/python/tutorials/tmp/0004/2d_streaming_instability_copy2/src/cparam.local\n"
     ]
    },
    {
     "data": {
      "text/plain": [
       "False"
      ]
     },
     "execution_count": 3,
     "metadata": {},
     "output_type": "execute_result"
    }
   ],
   "source": [
    "SIM.show('cparam.local')"
   ]
  },
  {
   "cell_type": "code",
   "execution_count": 4,
   "metadata": {
    "collapsed": false
   },
   "outputs": [],
   "source": [
    "pcn.io.exists??"
   ]
  },
  {
   "cell_type": "code",
   "execution_count": 5,
   "metadata": {
    "collapsed": false
   },
   "outputs": [
    {
     "ename": "TypeError",
     "evalue": "change_value_in_file() missing 2 required positional arguments: 'quantity' and 'newValue'",
     "output_type": "error",
     "traceback": [
      "\u001b[0;31m---------------------------------------------------------------------------\u001b[0m",
      "\u001b[0;31mTypeError\u001b[0m                                 Traceback (most recent call last)",
      "\u001b[0;32m<ipython-input-5-2b8248c9082c>\u001b[0m in \u001b[0;36m<module>\u001b[0;34m()\u001b[0m\n\u001b[0;32m----> 1\u001b[0;31m \u001b[0mSIM\u001b[0m\u001b[0;34m.\u001b[0m\u001b[0mchange_value_in_file\u001b[0m\u001b[0;34m(\u001b[0m\u001b[0;34m'cparam.local'\u001b[0m\u001b[0;34m,\u001b[0m \u001b[0;34m)\u001b[0m\u001b[0;34m\u001b[0m\u001b[0m\n\u001b[0m",
      "\u001b[0;31mTypeError\u001b[0m: change_value_in_file() missing 2 required positional arguments: 'quantity' and 'newValue'"
     ]
    }
   ],
   "source": [
    "SIM.change_value_in_file('cparam.local', )"
   ]
  },
  {
   "cell_type": "markdown",
   "metadata": {},
   "source": [
    "## Do changes in start.in and run.in"
   ]
  },
  {
   "cell_type": "code",
   "execution_count": null,
   "metadata": {
    "collapsed": false
   },
   "outputs": [],
   "source": []
  },
  {
   "cell_type": "markdown",
   "metadata": {},
   "source": [
    "# Compile and run simulations"
   ]
  },
  {
   "cell_type": "code",
   "execution_count": null,
   "metadata": {
    "collapsed": false
   },
   "outputs": [],
   "source": [
    "SIM_copy.compile()"
   ]
  }
 ],
 "metadata": {
  "kernelspec": {
   "display_name": "Python 3",
   "language": "python",
   "name": "python3"
  },
  "language_info": {
   "codemirror_mode": {
    "name": "ipython",
    "version": 3
   },
   "file_extension": ".py",
   "mimetype": "text/x-python",
   "name": "python",
   "nbconvert_exporter": "python",
   "pygments_lexer": "ipython3",
   "version": "3.6.0"
  }
 },
 "nbformat": 4,
 "nbformat_minor": 1
}
