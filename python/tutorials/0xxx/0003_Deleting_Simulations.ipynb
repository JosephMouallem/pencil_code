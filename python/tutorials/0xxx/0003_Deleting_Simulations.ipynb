{
 "cells": [
  {
   "cell_type": "code",
   "execution_count": 1,
   "metadata": {
    "collapsed": false
   },
   "outputs": [
    {
     "name": "stdout",
     "output_type": "stream",
     "text": [
      "Warning: no vtk library found.\n"
     ]
    }
   ],
   "source": [
    "import pencilnew as pcn\n",
    "import os"
   ]
  },
  {
   "cell_type": "markdown",
   "metadata": {},
   "source": [
    "# Deleting Runs\n",
    "\n",
    "This is based on tutorial 0002.\n",
    "\n",
    "Now, lets get rid of the simulation we created beforehand. Therefor, we use 'pcn.get_sims(folder)' to get all simulations that are within a folder! This is very mighty, as you will see in the following. Since deleting should always considered seriously, we first do a dry removal run first.\n",
    "\n",
    "## Dry Deleting, nothing will happen here"
   ]
  },
  {
   "cell_type": "code",
   "execution_count": 2,
   "metadata": {
    "collapsed": false
   },
   "outputs": [
    {
     "name": "stdout",
     "output_type": "stream",
     "text": [
      "! Removing 2d_streaming_instability\n",
      "?? WARNING: Would remove: /home/user/pencil-code/python/tutorials/tmp/0002/2d_streaming_instability/start.in\n",
      "?? WARNING: Would remove: /home/user/pencil-code/python/tutorials/tmp/0002/2d_streaming_instability/src\n",
      "?? WARNING: Would remove: /home/user/pencil-code/python/tutorials/tmp/0002/2d_streaming_instability/xzaver.in\n",
      "?? WARNING: Would remove: /home/user/pencil-code/python/tutorials/tmp/0002/2d_streaming_instability/yaver.in\n",
      "?? WARNING: Would remove: /home/user/pencil-code/python/tutorials/tmp/0002/2d_streaming_instability/yzaver.in\n",
      "?? WARNING: Would remove: /home/user/pencil-code/python/tutorials/tmp/0002/2d_streaming_instability/print.in\n",
      "?? WARNING: Would remove: /home/user/pencil-code/python/tutorials/tmp/0002/2d_streaming_instability/run.in\n",
      "?? WARNING: Would remove: /home/user/pencil-code/python/tutorials/tmp/0002/2d_streaming_instability/zaver.in\n",
      "?? WARNING: Would remove: /home/user/pencil-code/python/tutorials/tmp/0002/2d_streaming_instability/xyaver.in\n",
      "?? WARNING: Would remove: /home/user/pencil-code/python/tutorials/tmp/0002/2d_streaming_instability/pc\n",
      "?? WARNING: Would remove: /home/user/pencil-code/python/tutorials/tmp/0002/2d_streaming_instability/video.in\n",
      "\n",
      "\n",
      "! Removing b\n",
      "?? WARNING: Would remove: /home/user/pencil-code/python/tutorials/tmp/0002/b/start.in\n",
      "?? WARNING: Would remove: /home/user/pencil-code/python/tutorials/tmp/0002/b/src\n",
      "?? WARNING: Would remove: /home/user/pencil-code/python/tutorials/tmp/0002/b/xzaver.in\n",
      "?? WARNING: Would remove: /home/user/pencil-code/python/tutorials/tmp/0002/b/yaver.in\n",
      "?? WARNING: Would remove: /home/user/pencil-code/python/tutorials/tmp/0002/b/yzaver.in\n",
      "?? WARNING: Would remove: /home/user/pencil-code/python/tutorials/tmp/0002/b/print.in\n",
      "?? WARNING: Would remove: /home/user/pencil-code/python/tutorials/tmp/0002/b/run.in\n",
      "?? WARNING: Would remove: /home/user/pencil-code/python/tutorials/tmp/0002/b/zaver.in\n",
      "?? WARNING: Would remove: /home/user/pencil-code/python/tutorials/tmp/0002/b/xyaver.in\n",
      "?? WARNING: Would remove: /home/user/pencil-code/python/tutorials/tmp/0002/b/pc\n",
      "?? WARNING: Would remove: /home/user/pencil-code/python/tutorials/tmp/0002/b/video.in\n",
      "\n",
      "\n",
      "! Removing copy_of_2d_si\n",
      "?? WARNING: Would remove: /home/user/pencil-code/python/tutorials/tmp/0002/copy_of_2d_si/start.in\n",
      "?? WARNING: Would remove: /home/user/pencil-code/python/tutorials/tmp/0002/copy_of_2d_si/src\n",
      "?? WARNING: Would remove: /home/user/pencil-code/python/tutorials/tmp/0002/copy_of_2d_si/xzaver.in\n",
      "?? WARNING: Would remove: /home/user/pencil-code/python/tutorials/tmp/0002/copy_of_2d_si/yaver.in\n",
      "?? WARNING: Would remove: /home/user/pencil-code/python/tutorials/tmp/0002/copy_of_2d_si/yzaver.in\n",
      "?? WARNING: Would remove: /home/user/pencil-code/python/tutorials/tmp/0002/copy_of_2d_si/print.in\n",
      "?? WARNING: Would remove: /home/user/pencil-code/python/tutorials/tmp/0002/copy_of_2d_si/run.in\n",
      "?? WARNING: Would remove: /home/user/pencil-code/python/tutorials/tmp/0002/copy_of_2d_si/zaver.in\n",
      "?? WARNING: Would remove: /home/user/pencil-code/python/tutorials/tmp/0002/copy_of_2d_si/xyaver.in\n",
      "?? WARNING: Would remove: /home/user/pencil-code/python/tutorials/tmp/0002/copy_of_2d_si/pc\n",
      "?? WARNING: Would remove: /home/user/pencil-code/python/tutorials/tmp/0002/copy_of_2d_si/video.in\n",
      "\n",
      "\n",
      "! Removing c\n",
      "?? WARNING: Would remove: /home/user/pencil-code/python/tutorials/tmp/0002/c/start.in\n",
      "?? WARNING: Would remove: /home/user/pencil-code/python/tutorials/tmp/0002/c/src\n",
      "?? WARNING: Would remove: /home/user/pencil-code/python/tutorials/tmp/0002/c/xzaver.in\n",
      "?? WARNING: Would remove: /home/user/pencil-code/python/tutorials/tmp/0002/c/yaver.in\n",
      "?? WARNING: Would remove: /home/user/pencil-code/python/tutorials/tmp/0002/c/yzaver.in\n",
      "?? WARNING: Would remove: /home/user/pencil-code/python/tutorials/tmp/0002/c/print.in\n",
      "?? WARNING: Would remove: /home/user/pencil-code/python/tutorials/tmp/0002/c/run.in\n",
      "?? WARNING: Would remove: /home/user/pencil-code/python/tutorials/tmp/0002/c/zaver.in\n",
      "?? WARNING: Would remove: /home/user/pencil-code/python/tutorials/tmp/0002/c/xyaver.in\n",
      "?? WARNING: Would remove: /home/user/pencil-code/python/tutorials/tmp/0002/c/pc\n",
      "?? WARNING: Would remove: /home/user/pencil-code/python/tutorials/tmp/0002/c/video.in\n",
      "\n",
      "\n",
      "! Removing a\n",
      "?? WARNING: Would remove: /home/user/pencil-code/python/tutorials/tmp/0002/a/start.in\n",
      "?? WARNING: Would remove: /home/user/pencil-code/python/tutorials/tmp/0002/a/src\n",
      "?? WARNING: Would remove: /home/user/pencil-code/python/tutorials/tmp/0002/a/xzaver.in\n",
      "?? WARNING: Would remove: /home/user/pencil-code/python/tutorials/tmp/0002/a/yaver.in\n",
      "?? WARNING: Would remove: /home/user/pencil-code/python/tutorials/tmp/0002/a/yzaver.in\n",
      "?? WARNING: Would remove: /home/user/pencil-code/python/tutorials/tmp/0002/a/print.in\n",
      "?? WARNING: Would remove: /home/user/pencil-code/python/tutorials/tmp/0002/a/run.in\n",
      "?? WARNING: Would remove: /home/user/pencil-code/python/tutorials/tmp/0002/a/zaver.in\n",
      "?? WARNING: Would remove: /home/user/pencil-code/python/tutorials/tmp/0002/a/xyaver.in\n",
      "?? WARNING: Would remove: /home/user/pencil-code/python/tutorials/tmp/0002/a/pc\n",
      "?? WARNING: Would remove: /home/user/pencil-code/python/tutorials/tmp/0002/a/video.in\n",
      "\n",
      "\n"
     ]
    }
   ],
   "source": [
    "root_path = '../tmp/0002'\n",
    "\n",
    "SIMS = pcn.get_sims(root_path)\n",
    "for SIM in SIMS:\n",
    "    print('! Removing '+SIM.name)\n",
    "    SIM.remove()\n",
    "    print('\\n')"
   ]
  },
  {
   "cell_type": "markdown",
   "metadata": {},
   "source": [
    "## Now do the real deleting"
   ]
  },
  {
   "cell_type": "code",
   "execution_count": 7,
   "metadata": {
    "collapsed": false
   },
   "outputs": [],
   "source": [
    "SIMS = pcn.get_sims(root_path)\n",
    "for SIM in SIMS:\n",
    "    print('! Removing '+SIM.name)\n",
    "    SIM.remove(do_it=True, do_it_really=True, remove_data=True)\n",
    "    print('\\n')"
   ]
  },
  {
   "cell_type": "code",
   "execution_count": 8,
   "metadata": {
    "collapsed": false
   },
   "outputs": [
    {
     "data": {
      "text/plain": [
       "[]"
      ]
     },
     "execution_count": 8,
     "metadata": {},
     "output_type": "execute_result"
    }
   ],
   "source": [
    "os.listdir(root_path)"
   ]
  },
  {
   "cell_type": "markdown",
   "metadata": {},
   "source": [
    "See its empty!"
   ]
  }
 ],
 "metadata": {
  "kernelspec": {
   "display_name": "Python 3",
   "language": "python",
   "name": "python3"
  },
  "language_info": {
   "codemirror_mode": {
    "name": "ipython",
    "version": 3
   },
   "file_extension": ".py",
   "mimetype": "text/x-python",
   "name": "python",
   "nbconvert_exporter": "python",
   "pygments_lexer": "ipython3",
   "version": "3.6.0"
  }
 },
 "nbformat": 4,
 "nbformat_minor": 1
}
